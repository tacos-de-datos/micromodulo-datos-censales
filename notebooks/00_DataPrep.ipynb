{
 "cells": [
  {
   "cell_type": "markdown",
   "metadata": {},
   "source": [
    "# Micromodulo Analizando Datos Censales con Pandas\n",
    "#### El repositorio con los materiales para el micromodulo de tacosdedatos.academy \"Analizando Datos Censales con Pandas\"\n",
    "\n",
    "<details>\n",
    "    <summary><strong>Meta</strong></summary>\n",
    "    \"La meta de este notebook es recrear la figura X del reporte XYZ ...\"\n",
    "    <ul>\n",
    "        <li> Metas mensurables </li>\n",
    "        <li> Ej 1: Identificar <i>variables de interes en el conjunto de datos <strong>nombre_chido_de_conjunto_de_datos.csv</strong></i> </li>\n",
    "        <li> Ej 2: Crear un <i>dataset trabajable</i> de los datos en bruto.</li>\n",
    "    </ul>\n",
    "</details>\n",
    "\n",
    "<details>\n",
    "    <summary><strong>Contexto</strong></summary>\n",
    "    Contexto en este momento (por ejemplo, \"hemos descargado datos sin procesar de <strong><i>website.com</i> </strong> y ahora estamos en el proceso de crear un masterfile\").\n",
    "    <li> ¿Cuál es el objetivo final de este proyecto? </li>\n",
    "    <li> ¿Qué estamos tratando de recrear? ¿Dónde estamos en el proceso? </li>\n",
    "    <li> Cualquier enlace a documentación / figuras. </li>\n",
    "</details>"
   ]
  },
  {
   "cell_type": "code",
   "execution_count": null,
   "metadata": {},
   "outputs": [],
   "source": [
    "import pandas as pd\n",
    "from zipfile import ZipFile\n",
    "from pathlib import Path\n",
    "from herramientas import arbol\n",
    "import arrow\n",
    "hoy = arrow.now().format(\"DD-MMM-YY\", locale = \"es\")\n",
    "\n",
    "hoy"
   ]
  },
  {
   "cell_type": "code",
   "execution_count": null,
   "metadata": {},
   "outputs": [],
   "source": [
    "DATOS_BRUTOS = Path(\"../datos/brutos/\")\n",
    "DATOS_INTERINOS = Path(\"../datos/interinos/\")\n",
    "DATOS_PROCESADOS = Path(\"../datos/procesados/\")\n",
    "DATOS_EXTERNOS = Path(\"../datos/externos/\")"
   ]
  },
  {
   "cell_type": "code",
   "execution_count": null,
   "metadata": {},
   "outputs": [],
   "source": [
    "arbol(DATOS_BRUTOS)"
   ]
  },
  {
   "cell_type": "code",
   "execution_count": null,
   "metadata": {},
   "outputs": [],
   "source": [
    "data = pd.read_"
   ]
  }
 ],
 "metadata": {
  "kernelspec": {
   "display_name": "Python 3",
   "language": "python",
   "name": "python3"
  },
  "language_info": {
   "codemirror_mode": {
    "name": "ipython",
    "version": 3
   },
   "file_extension": ".py",
   "mimetype": "text/x-python",
   "name": "python",
   "nbconvert_exporter": "python",
   "pygments_lexer": "ipython3",
   "version": "3.7.0"
  }
 },
 "nbformat": 4,
 "nbformat_minor": 2
}
